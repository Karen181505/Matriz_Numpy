{
 "metadata": {
  "language_info": {
   "codemirror_mode": {
    "name": "ipython",
    "version": 3
   },
   "file_extension": ".py",
   "mimetype": "text/x-python",
   "name": "python",
   "nbconvert_exporter": "python",
   "pygments_lexer": "ipython3",
   "version": "3.9.5"
  },
  "orig_nbformat": 4,
  "kernelspec": {
   "name": "python3",
   "display_name": "Python 3.9.5 64-bit"
  },
  "interpreter": {
   "hash": "ac59ebe37160ed0dfa835113d9b8498d9f09ceb179beaac4002f036b9467c963"
  }
 },
 "nbformat": 4,
 "nbformat_minor": 2,
 "cells": [
  {
   "cell_type": "code",
   "execution_count": 54,
   "metadata": {},
   "outputs": [
    {
     "output_type": "stream",
     "name": "stdout",
     "text": [
      "No se puede realizar la multiplicaion\n"
     ]
    }
   ],
   "source": [
    "import numpy as np\n",
    "\n",
    "fila1=int(input(\"Introduce el numero de filas de la primera matriz: \"))\n",
    "columna1=int(input(\"Introduce el numero de columnas de la primera matriz: \"))\n",
    "fila2=int(input(\"Introduce el numero de filas de la segunda matriz: \"))\n",
    "columna2=int(input(\"Introduce el numero de columnas de la segunda matriz: \"))\n",
    "matriz1=np.zeros((fila1,columna1))\n",
    "matriz2=np.zeros((fila2,columna2))\n",
    "matrizR=np.zeros((fila2,columna2))\n",
    "\n",
    "if fila1!=fila2:\n",
    "    print(\"No se puede realizar la multiplicaion\")\n",
    "else:\n",
    "    print(\"Ingrese los datos de la primera matriz\")\n",
    "    for fila in range(0,fila1):\n",
    "        for columna in range(0,columna1):\n",
    "            matriz1[(fila,columna)] = int(input(\"Ingrese un numero: \"))\n",
    "\n",
    "    print(\"Ingrese los datos de la segunda matriz\")\n",
    "    for fila in range(0,fila2):\n",
    "        for columna in range(0,columna2):\n",
    "            matriz2[(fila,columna)] = int(input(\"Ingrese un numero: \"))\n",
    "    print(\"Matriz1:\",matriz1)\n",
    "    print(\"Matriz2:\",matriz2)\n",
    "\n",
    "    \n",
    "    print(\"Resulatdo de la multiplicacion:\",matriz1.dot(matriz2))\n",
    "\n"
   ]
  },
  {
   "cell_type": "code",
   "execution_count": null,
   "metadata": {},
   "outputs": [],
   "source": []
  }
 ]
}